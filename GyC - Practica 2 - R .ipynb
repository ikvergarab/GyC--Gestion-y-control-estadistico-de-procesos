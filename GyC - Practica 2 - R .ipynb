{
 "cells": [
  {
   "cell_type": "markdown",
   "metadata": {},
   "source": [
    "# Práctica n°2 : Inferencia esdatística para una sola variable usando R"
   ]
  },
  {
   "cell_type": "markdown",
   "metadata": {},
   "source": [
    "Notas del Curso Gestión de la calidad y control estadístico de procesos"
   ]
  },
  {
   "cell_type": "markdown",
   "metadata": {},
   "source": [
    "** Ibeth Vergara Baquero**   \n",
    "ivergara@uco.edu.co   \n",
    "Universidad Católica de Oriente   \n",
    "Facultad de ingenierías    \n",
    "Rionegro, Colombia\n"
   ]
  },
  {
   "cell_type": "markdown",
   "metadata": {},
   "source": [
    "> ** Objetivo de la práctica:** Desarrollar Scripts para realizar inferencia estadística para una variable en R."
   ]
  },
  {
   "cell_type": "markdown",
   "metadata": {},
   "source": [
    "**Bibliografía**.\n",
    "> [t.test()](https://stat.ethz.ch/R-manual/R-devel/library/stats/html/t.test.html)  \n"
   ]
  },
  {
   "cell_type": "markdown",
   "metadata": {},
   "source": [
    "A continuación se presentará el taller propuesto para complementar los temas vistos en clase con la programación en R."
   ]
  },
  {
   "cell_type": "markdown",
   "metadata": {},
   "source": [
    "### Inferencia estadística\n",
    "**1.** La resistencia a la presión interna de las botellas de cristal para envasar una bebida carbonatada es una característica importante de la calidad. La embotelladora desea saber si la resistencia a la presión es diferente de 175 psi. Por la experiencia anterior. El fabricante de las botellas le hace llegar un lote de estas botellas a la embotelladora, la cual está interesada en probar la hipótesis. Se selecciona una muestra aleatoria de 200 botellas, las cuales se colocan en una máquina de prueba de presión hidrostática que incrementa la presión dentro de la botella hasta que estalla. Los datos son enviados a usted en un archivo llamado \"datosinf\" para que usted haga el estudio."
   ]
  },
  {
   "cell_type": "code",
   "execution_count": 8,
   "metadata": {
    "collapsed": false
   },
   "outputs": [
    {
     "data": {
      "text/plain": [
       "\n",
       "\tOne Sample t-test\n",
       "\n",
       "data:  x$Diametro\n",
       "t = -45.29, df = 199, p-value < 2.2e-16\n",
       "alternative hypothesis: true mean is not equal to 175\n",
       "95 percent confidence interval:\n",
       " 169.8821 170.3092\n",
       "sample estimates:\n",
       "mean of x \n",
       " 170.0957 \n"
      ]
     },
     "metadata": {},
     "output_type": "display_data"
    }
   ],
   "source": [
    "#H0: mu=175 H1: mu!=175\n",
    "x=read.csv(\"datosinf.csv\", header=T)\n",
    "test=t.test(x=x$Diametro, #Vector numérico que contiene las muestras de estudio \n",
    "       mu= 175,  # Valor numerico de la media que se desea probar\n",
    "       conf.level = 0.95, \n",
    "       alternative = \"two.sided\") #Indica el tipo de la hipotesis alternativa. \n",
    "                                #Diferencia=\"two.sided\", mayor:\"greater\", menor= \"less\" \n",
    "\n",
    "test"
   ]
  },
  {
   "cell_type": "markdown",
   "metadata": {},
   "source": [
    "*Como alpha es mayor que p-value se rechaza H0 y por tanto la resistencia a la presión es estadisticamente diferente de 175 psi*"
   ]
  },
  {
   "cell_type": "markdown",
   "metadata": {},
   "source": [
    "**2.** Para el ejercicio anterior calcular el itervalo de confianza del 95%"
   ]
  },
  {
   "cell_type": "code",
   "execution_count": 10,
   "metadata": {
    "collapsed": false
   },
   "outputs": [
    {
     "data": {
      "text/plain": [
       "            Length Class  Mode     \n",
       "statistic   1      -none- numeric  \n",
       "parameter   1      -none- numeric  \n",
       "p.value     1      -none- numeric  \n",
       "conf.int    2      -none- numeric  \n",
       "estimate    1      -none- numeric  \n",
       "null.value  1      -none- numeric  \n",
       "alternative 1      -none- character\n",
       "method      1      -none- character\n",
       "data.name   1      -none- character"
      ]
     },
     "metadata": {},
     "output_type": "display_data"
    }
   ],
   "source": [
    "summary(test) # indica la información que puedo extraer de la prueba"
   ]
  },
  {
   "cell_type": "code",
   "execution_count": 11,
   "metadata": {
    "collapsed": false
   },
   "outputs": [
    {
     "data": {
      "text/html": [
       "<ol class=list-inline>\n",
       "\t<li>169.882111058921</li>\n",
       "\t<li>170.309188941079</li>\n",
       "</ol>\n"
      ],
      "text/latex": [
       "\\begin{enumerate*}\n",
       "\\item 169.882111058921\n",
       "\\item 170.309188941079\n",
       "\\end{enumerate*}\n"
      ],
      "text/markdown": [
       "1. 169.882111058921\n",
       "2. 170.309188941079\n",
       "\n",
       "\n"
      ],
      "text/plain": [
       "[1] 169.8821 170.3092\n",
       "attr(,\"conf.level\")\n",
       "[1] 0.95"
      ]
     },
     "metadata": {},
     "output_type": "display_data"
    }
   ],
   "source": [
    "test$conf.int # Intervalo de confianza del 95%"
   ]
  },
  {
   "cell_type": "markdown",
   "metadata": {},
   "source": [
    "**3.** Ahora se desea probar si la resistencia a la presión excede los 170 psi."
   ]
  },
  {
   "cell_type": "code",
   "execution_count": 18,
   "metadata": {
    "collapsed": false
   },
   "outputs": [
    {
     "data": {
      "text/plain": [
       "\n",
       "\tOne Sample t-test\n",
       "\n",
       "data:  x$Diametro\n",
       "t = 0.88329, df = 199, p-value = 0.1891\n",
       "alternative hypothesis: true mean is greater than 170\n",
       "95 percent confidence interval:\n",
       " 169.9167      Inf\n",
       "sample estimates:\n",
       "mean of x \n",
       " 170.0957 \n"
      ]
     },
     "metadata": {},
     "output_type": "display_data"
    }
   ],
   "source": [
    "#H0: mu=175 H1: mu!=175\n",
    "test2=t.test(x=x$Diametro, #Vector numérico que contiene las muestras de estudio \n",
    "       mu= 170,  # Valor numerico de la media que se desea probar\n",
    "       conf.level = 0.95, \n",
    "       alternative = \"greater\") #Indica el tipo de la hipotesis alternativa. \n",
    "                                #Diferencia=\"two.sided\", mayor:\"greater\", menor= \"less\" \n",
    "\n",
    "test2"
   ]
  },
  {
   "cell_type": "markdown",
   "metadata": {},
   "source": [
    "*Como alpha es menor que vp se acepta la hipótesis nula, por tanto la resistencia media a presión es estadisticamente igual a 170* "
   ]
  },
  {
   "cell_type": "markdown",
   "metadata": {},
   "source": [
    "**Para los siguientes puntos trabajar con el data set de R llamado ChickWeight. Recuerde revisar la base de datos antes de trabajar**  "
   ]
  },
  {
   "cell_type": "markdown",
   "metadata": {},
   "source": [
    "**4.** Una empresa dedicada a la cría de pollo para la venta está interesada en el aumento del peso de los pollos por lo que ha decidido utilizar diversas dietas para lograr su objetivo. El encargado de la empresa necesita, por temas de calidad, que el peso promedio de los pollos sea 122 sin tener en cuenta que tipo de dieta esta utilizando. ¿Qué puede concluir? "
   ]
  },
  {
   "cell_type": "code",
   "execution_count": null,
   "metadata": {
    "collapsed": true
   },
   "outputs": [],
   "source": []
  },
  {
   "cell_type": "markdown",
   "metadata": {},
   "source": [
    "**5.** Determine un intervalo de confianza del 95% para el punto anterior"
   ]
  },
  {
   "cell_type": "code",
   "execution_count": null,
   "metadata": {
    "collapsed": true
   },
   "outputs": [],
   "source": []
  },
  {
   "cell_type": "markdown",
   "metadata": {},
   "source": [
    "**6.** El encargado de la empresa desea determinar si los pollos criados con la dieta 2 tienen un peso superior a los 122. ¿Que puede concluir? "
   ]
  },
  {
   "cell_type": "code",
   "execution_count": null,
   "metadata": {
    "collapsed": true
   },
   "outputs": [],
   "source": []
  },
  {
   "cell_type": "markdown",
   "metadata": {},
   "source": [
    "**7.** Se desea probar si el peso de los pollos con la dieta 3 es menor a 160 ¿Qué puede inferir?"
   ]
  },
  {
   "cell_type": "code",
   "execution_count": null,
   "metadata": {
    "collapsed": true
   },
   "outputs": [],
   "source": []
  }
 ],
 "metadata": {
  "anaconda-cloud": {},
  "kernelspec": {
   "display_name": "R",
   "language": "R",
   "name": "ir"
  },
  "language_info": {
   "codemirror_mode": "r",
   "file_extension": ".r",
   "mimetype": "text/x-r-source",
   "name": "R",
   "pygments_lexer": "r",
   "version": "3.3.2"
  }
 },
 "nbformat": 4,
 "nbformat_minor": 1
}
